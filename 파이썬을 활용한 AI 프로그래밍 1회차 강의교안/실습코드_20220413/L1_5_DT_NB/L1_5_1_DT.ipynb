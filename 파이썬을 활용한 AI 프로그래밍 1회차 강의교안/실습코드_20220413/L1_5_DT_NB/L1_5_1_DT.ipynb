{
 "cells": [
  {
   "cell_type": "markdown",
   "id": "666c9284",
   "metadata": {},
   "source": [
    "## 결정 트리 분류기 훈련하기"
   ]
  },
  {
   "cell_type": "code",
   "execution_count": 8,
   "id": "ce55e38a",
   "metadata": {},
   "outputs": [],
   "source": [
    "# 라이브러리를 임포트합니다.\n",
    "from sklearn.tree import DecisionTreeClassifier\n",
    "from sklearn import datasets\n",
    "\n",
    "# 데이터를 로드합니다.\n",
    "iris = datasets.load_iris()\n",
    "features = iris.data\n",
    "target = iris.target\n",
    "\n",
    "# 결정 트리 분류기를 만듭니다.\n",
    "decisiontree = DecisionTreeClassifier(random_state=0)\n",
    "\n",
    "# 모델을 훈련합니다.\n",
    "model = decisiontree.fit(features, target)"
   ]
  },
  {
   "cell_type": "code",
   "execution_count": 9,
   "id": "03cdb855",
   "metadata": {},
   "outputs": [
    {
     "data": {
      "text/plain": [
       "array([1])"
      ]
     },
     "execution_count": 9,
     "metadata": {},
     "output_type": "execute_result"
    }
   ],
   "source": [
    "# 새로운 샘플을 만듭니다.\n",
    "observation = [[ 5,  4,  3,  2]]\n",
    "\n",
    "# 샘플의 클래스를 예측합니다.\n",
    "model.predict(observation)"
   ]
  },
  {
   "cell_type": "code",
   "execution_count": 10,
   "id": "508b8848",
   "metadata": {},
   "outputs": [
    {
     "data": {
      "text/plain": [
       "array([[0., 1., 0.]])"
      ]
     },
     "execution_count": 10,
     "metadata": {},
     "output_type": "execute_result"
    }
   ],
   "source": [
    "# 세 개의 클래스에 댜한 예측 확률을 확인합니다.\n",
    "model.predict_proba(observation)"
   ]
  },
  {
   "cell_type": "code",
   "execution_count": 11,
   "id": "afa55303",
   "metadata": {},
   "outputs": [],
   "source": [
    "# 엔트로피를 사용해 결정 트리 분류기를 훈련합니다.\n",
    "\n",
    "decisiontree_entropy = DecisionTreeClassifier(\n",
    "    criterion='entropy', random_state=0)\n",
    "\n",
    "# 모델을 훈련합니다.\n",
    "model_entropy = decisiontree_entropy.fit(features, target)"
   ]
  },
  {
   "cell_type": "markdown",
   "id": "d7bc5fcb",
   "metadata": {},
   "source": [
    "## 결정 트리 회귀 훈련하기"
   ]
  },
  {
   "cell_type": "code",
   "execution_count": 12,
   "id": "c70f7171",
   "metadata": {},
   "outputs": [],
   "source": [
    "# 보스턴 주택가격 데이터셋의 특성에는 흑인 인구 비율이 들어 있어 요즘 시대에 적절치 않다는 의견이 많았습니다.\n",
    "# 사이킷런 1.0 버전에서 load_boston() 함수가 deprecated 되었고 1.2 버전에서 삭제될 예정입니다.\n",
    "# 이와 관련된 경고를 무시하기 위해 다음 코드를 추가합니다.\n",
    "import warnings\n",
    "warnings.filterwarnings(\"ignore\", category=FutureWarning)\n",
    "\n",
    "# 라이브러리를 임포트합니다.\n",
    "from sklearn.tree import DecisionTreeRegressor\n",
    "from sklearn import datasets\n",
    "\n",
    "# 데이터를 로드하고 두 개의 특성만 선택합니다.\n",
    "boston = datasets.load_boston()\n",
    "features = boston.data[:,0:2]\n",
    "target = boston.target\n",
    "\n",
    "# 결정 트리 회귀 모델을 만듭니다.\n",
    "decisiontree = DecisionTreeRegressor(random_state=0)\n",
    "\n",
    "# 모델을 훈련합니다.\n",
    "model = decisiontree.fit(features, target)"
   ]
  },
  {
   "cell_type": "code",
   "execution_count": 13,
   "id": "f6f4d85f",
   "metadata": {},
   "outputs": [
    {
     "data": {
      "text/plain": [
       "array([33.])"
      ]
     },
     "execution_count": 13,
     "metadata": {},
     "output_type": "execute_result"
    }
   ],
   "source": [
    "# 새로운 샘플을 만듭니다.\n",
    "observation = [[0.02, 16]]\n",
    "\n",
    "# 샘플의 타깃을 예측합니다.\n",
    "model.predict(observation)"
   ]
  },
  {
   "cell_type": "code",
   "execution_count": 14,
   "id": "2b1fe2d0",
   "metadata": {},
   "outputs": [],
   "source": [
    "# 평균 제곱 오차를 사용한 결정 트리 회귀 모델을 훈련합니다.\n",
    "decisiontree_mae = DecisionTreeRegressor(criterion=\"absolute_error\", random_state=0)\n",
    "\n",
    "# 모델을 훈련합니다.\n",
    "model_mae = decisiontree_mae.fit(features, target)"
   ]
  },
  {
   "cell_type": "code",
   "execution_count": null,
   "id": "f76fc670",
   "metadata": {},
   "outputs": [],
   "source": []
  },
  {
   "cell_type": "code",
   "execution_count": null,
   "id": "719c8cea",
   "metadata": {},
   "outputs": [],
   "source": []
  }
 ],
 "metadata": {
  "kernelspec": {
   "display_name": "Python 3 (ipykernel)",
   "language": "python",
   "name": "python3"
  },
  "language_info": {
   "codemirror_mode": {
    "name": "ipython",
    "version": 3
   },
   "file_extension": ".py",
   "mimetype": "text/x-python",
   "name": "python",
   "nbconvert_exporter": "python",
   "pygments_lexer": "ipython3",
   "version": "3.9.6"
  }
 },
 "nbformat": 4,
 "nbformat_minor": 5
}
