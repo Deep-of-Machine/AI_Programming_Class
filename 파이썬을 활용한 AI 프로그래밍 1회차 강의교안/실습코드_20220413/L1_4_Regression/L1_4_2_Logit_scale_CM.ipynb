{
 "cells": [
  {
   "cell_type": "markdown",
   "id": "b67add27",
   "metadata": {},
   "source": [
    "# Scales"
   ]
  },
  {
   "cell_type": "code",
   "execution_count": 1,
   "id": "54594d1d",
   "metadata": {},
   "outputs": [],
   "source": [
    "from scipy.stats import logistic\n",
    "import numpy as np\n",
    "import matplotlib, matplotlib.pyplot as plt"
   ]
  },
  {
   "cell_type": "code",
   "execution_count": 2,
   "id": "2dc5c9a1",
   "metadata": {},
   "outputs": [],
   "source": [
    "# 원하는 플로팅 스타일을 선택한다.\n",
    "matplotlib.style.use(\"ggplot\")"
   ]
  },
  {
   "cell_type": "code",
   "execution_count": 3,
   "id": "3d1c6005",
   "metadata": {},
   "outputs": [
    {
     "data": {
      "image/png": "[encoded data removed]",
      "text/plain": [
       "<Figure size 432x288 with 1 Axes>"
      ]
     },
     "metadata": {},
     "output_type": "display_data"
    }
   ],
   "source": [
    "# 일부 다른 로직 곡선을 보여준다.\n",
    "x = np.arange(-10, 10.1, 0.05)\n",
    "scales = (0.01, 0.5, 1, 2)\n",
    "for scale in scales:\n",
    "    plt.plot(x, logistic.cdf(x, 0, scale))"
   ]
  },
  {
   "cell_type": "code",
   "execution_count": 4,
   "id": "a3f8443b",
   "metadata": {},
   "outputs": [
    {
     "data": {
      "text/plain": [
       "<Figure size 432x288 with 0 Axes>"
      ]
     },
     "metadata": {},
     "output_type": "display_data"
    }
   ],
   "source": [
    "# 플롯을 저장한다.\n",
    "plt.savefig(\"logit.pdf\")"
   ]
  },
  {
   "cell_type": "markdown",
   "id": "c1f6e12c",
   "metadata": {},
   "source": [
    "# Logit result (confusion matrix)"
   ]
  },
  {
   "cell_type": "code",
   "execution_count": 21,
   "id": "41921777",
   "metadata": {},
   "outputs": [],
   "source": [
    "import pandas as pd\n",
    "from sklearn.metrics import confusion_matrix\n",
    "import sklearn.linear_model as lm"
   ]
  },
  {
   "cell_type": "code",
   "execution_count": 22,
   "id": "ee101a1c",
   "metadata": {},
   "outputs": [],
   "source": [
    "# 회귀 도구를 생성한다.\n",
    "clf = lm.LogisticRegression(max_iter=1000)\n",
    "#clf = lm.LogisticRegression(C=10.0, max_iter=1000)"
   ]
  },
  {
   "cell_type": "code",
   "execution_count": 23,
   "id": "d81fb1d3",
   "metadata": {},
   "outputs": [],
   "source": [
    "# 데이터시트를 읽어들이고, 등급을 정량화한다.\n",
    "grades = pd.read_table(\"grades.csv\")\n",
    "labels = ('F', 'D', 'C', 'B', 'A')\n",
    "grades[\"Letter\"] = pd.cut(grades[\"Final score\"], [0, 60, 70, 80, 90, 100],\n",
    "                          labels=labels)\n",
    "X = grades[[\"Quiz 1\", \"Quiz 2\"]]"
   ]
  },
  {
   "cell_type": "code",
   "execution_count": 24,
   "id": "1a615bd1",
   "metadata": {},
   "outputs": [
    {
     "name": "stdout",
     "output_type": "stream",
     "text": [
      "Score=0.605\n",
      "   F   D  C  B  A\n",
      "F  0   0  0  0  0\n",
      "D  2  16  4  3  1\n",
      "C  0   1  7  2  1\n",
      "B  0   0  1  1  1\n",
      "A  0   0  0  1  2\n"
     ]
    }
   ],
   "source": [
    "# 모델을 학습시키고, score와 혼동 행렬을 출력한다.\n",
    "clf.fit(X, grades[\"Letter\"])\n",
    "print(\"Score=%.3f\" % clf.score(X, grades[\"Letter\"]))\n",
    "cm = confusion_matrix(clf.predict(X), grades[\"Letter\"])\n",
    "print(pd.DataFrame(cm, columns=labels, index=labels))"
   ]
  },
  {
   "cell_type": "code",
   "execution_count": null,
   "id": "4b1bb3a9",
   "metadata": {},
   "outputs": [],
   "source": []
  },
  {
   "cell_type": "code",
   "execution_count": null,
   "id": "46846803",
   "metadata": {},
   "outputs": [],
   "source": []
  }
 ],
 "metadata": {
  "kernelspec": {
   "display_name": "Python 3 (ipykernel)",
   "language": "python",
   "name": "python3"
  },
  "language_info": {
   "codemirror_mode": {
    "name": "ipython",
    "version": 3
   },
   "file_extension": ".py",
   "mimetype": "text/x-python",
   "name": "python",
   "nbconvert_exporter": "python",
   "pygments_lexer": "ipython3",
   "version": "3.9.6"
  }
 },
 "nbformat": 4,
 "nbformat_minor": 5
}
